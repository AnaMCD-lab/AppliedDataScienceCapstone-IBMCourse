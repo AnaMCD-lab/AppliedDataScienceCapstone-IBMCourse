{
 "cells": [
  {
   "cell_type": "markdown",
   "metadata": {},
   "source": [
    "# The Battle of the Neighborhoods\n",
    "## IBM-Coursera Capstone Project"
   ]
  },
  {
   "cell_type": "markdown",
   "metadata": {},
   "source": [
    "## Table of Contents\n",
    "* [Introduction: Business Problem](#introduction)\n",
    "* [Data](#data)\n",
    "* [Methodology](#methodology)\n",
    "* [Analysis](#analysis)\n",
    "* [Results and Discussion](#results)\n",
    "* [Conclusion](#conclusion)\n"
   ]
  },
  {
   "cell_type": "markdown",
   "metadata": {},
   "source": [
    "\n",
    "## Introduction: Business Problem <a name=\"introduction\"></a>"
   ]
  },
  {
   "cell_type": "markdown",
   "metadata": {},
   "source": [
    "In this project, we will try to find the optimal location of a restaurant in Northwest Mexico City, an area full of businesses, offices, hotels, museums and tourists. This project is aimed at entrepeneurs specialized in the food industry.\n",
    "\n",
    "\n",
    "The project will provide some places ideal for a restaurant, taking into consideration that the place is not already crowded with restaurants and that it is close enough to an area easily accessible. It will also give some  insight of what type of restaurants are already within an area to give options of what type of restaurants would be attractive for potential costumers. For example, if a place is not very crowded with restaurants and within the area there are no seafood restaurants, then a seafood restaurant would be a good option."
   ]
  },
  {
   "cell_type": "markdown",
   "metadata": {},
   "source": [
    "## Data <a name=\"data\"></a>"
   ]
  },
  {
   "cell_type": "markdown",
   "metadata": {},
   "source": [
    "An area of Northwest Mexico City will be divided into grids based on postal codes, neighborhoods and delegaciones (boroughs). This data will be used by the Foursquare API to gather data about restaurants within the zone, and the frequency of the type of restaurants within the area.\n",
    "\n",
    "The postal codes of the neighborhoods of Mexico City divided by delegación (borough) is available on the following website: \n",
    "\n",
    "https://micodigopostal.org/ciudad-de-mexico/\n",
    "\n",
    "The coordinates of the postal codes is found on the following website:\n",
    "\n",
    "https://datos.cdmx.gob.mx/explore/dataset/codigos-postales-de-la-cdmx/table/\n",
    "\n",
    "To obtain the data about restaurants, an area of Mexico City will be divided into a grid and that grid will be entered into the Foursquare API. Information about restaurants will be gathered and analyzed to obtain data about the type and number of restaurants within an area."
   ]
  },
  {
   "cell_type": "code",
   "execution_count": null,
   "metadata": {},
   "outputs": [],
   "source": []
  }
 ],
 "metadata": {
  "kernelspec": {
   "display_name": "Python 3",
   "language": "python",
   "name": "python3"
  },
  "language_info": {
   "codemirror_mode": {
    "name": "ipython",
    "version": 3
   },
   "file_extension": ".py",
   "mimetype": "text/x-python",
   "name": "python",
   "nbconvert_exporter": "python",
   "pygments_lexer": "ipython3",
   "version": "3.8.5"
  }
 },
 "nbformat": 4,
 "nbformat_minor": 4
}
